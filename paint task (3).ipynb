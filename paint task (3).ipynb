{
 "cells": [
  {
   "cell_type": "code",
   "execution_count": 1,
   "id": "25862c6b-99d8-43c0-aedb-1e4edae2e760",
   "metadata": {},
   "outputs": [],
   "source": [
    "import cv2 \n",
    "import numpy as np"
   ]
  },
  {
   "cell_type": "code",
   "execution_count": 11,
   "id": "6d15d879-1b09-4fd9-abad-e671890d0ea9",
   "metadata": {},
   "outputs": [],
   "source": [
    "canvas = np.zeros((500, 500, 3), dtype=np.uint8) \n",
    "drawing = False\n",
    "color = (255, 0, 0)\n",
    "radius = 5\n",
    "\n",
    "def paint(event, x, y, flags, param):\n",
    "    global drawing, color, radius\n",
    "    if event == cv2.EVENT_LBUTTONDOWN:\n",
    "        drawing = True\n",
    "        cv2.circle(canvas, (x, y), radius, color, -1)\n",
    "    elif event == cv2.EVENT_MOUSEMOVE:\n",
    "        if drawing:\n",
    "            cv2.circle(canvas, (x, y), radius, color, -1)\n",
    "    elif event == cv2.EVENT_LBUTTONUP:\n",
    "        drawing = False\n",
    "\n",
    "cv2.namedWindow(\"painting\")\n",
    "cv2.setMouseCallback(\"painting\", paint)\n",
    "\n",
    "while True:\n",
    "    cv2.imshow('painting', canvas)\n",
    "    key = cv2.waitKey(1) & 255\n",
    "\n",
    "    if key == ord('b'):\n",
    "        color = (255, 0, 0)\n",
    "    elif key == ord('g'):\n",
    "        color = (0, 255, 0)\n",
    "    elif key == ord('r'):\n",
    "        color = (0, 0, 255)\n",
    "    elif key == ord('c'):\n",
    "        canvas[:] = 0 \n",
    "    elif key == ord('q'):\n",
    "        break\n",
    "cv2.destroyAllWindows()"
   ]
  },
  {
   "cell_type": "code",
   "execution_count": null,
   "id": "ac007395-441d-4e08-b773-458e2512b110",
   "metadata": {},
   "outputs": [],
   "source": []
  },
  {
   "cell_type": "code",
   "execution_count": null,
   "id": "2920cf49-7c03-46b3-a741-fe20aa40aa96",
   "metadata": {},
   "outputs": [],
   "source": []
  }
 ],
 "metadata": {
  "kernelspec": {
   "display_name": "Python 3 (ipykernel)",
   "language": "python",
   "name": "python3"
  },
  "language_info": {
   "codemirror_mode": {
    "name": "ipython",
    "version": 3
   },
   "file_extension": ".py",
   "mimetype": "text/x-python",
   "name": "python",
   "nbconvert_exporter": "python",
   "pygments_lexer": "ipython3",
   "version": "3.12.7"
  }
 },
 "nbformat": 4,
 "nbformat_minor": 5
}
